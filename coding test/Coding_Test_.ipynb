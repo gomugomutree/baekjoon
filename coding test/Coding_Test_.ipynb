{
 "cells": [
  {
   "cell_type": "code",
   "execution_count": 1,
   "id": "c6233714",
   "metadata": {},
   "outputs": [],
   "source": [
    "def solution(h, k, boxes):\n",
    "    answer = 0\n",
    "    leaf = 0\n",
    "    sorted(boxes)\n",
    "    if round(h/k) > len(boxes)+1 or (k + max(boxes)) < h:\n",
    "        return -1\n",
    "    \n",
    "    for i in range(len(boxes)-1):\n",
    "        if boxes[i+1] - boxes[i] > k:\n",
    "            return -1\n",
    "\n",
    "    if max(boxes) < k and (max(boxes) + k) >= h:\n",
    "        return 1\n",
    "\n",
    "    if (h//k)-1== len(boxes) and h%k == 0:\n",
    "        answer = h//k-1\n",
    "        return answer\n",
    "\n",
    "    boxes.append(h)\n",
    "    for i in range(len(boxes)):\n",
    "        if boxes[i] == k + leaf:\n",
    "            leaf = boxes[i]\n",
    "            answer += 1\n",
    "        elif boxes[i] > k + leaf:\n",
    "            leaf = boxes[i-1]\n",
    "            answer += 1\n",
    "\n",
    "    return answer"
   ]
  },
  {
   "cell_type": "code",
   "execution_count": null,
   "id": "e657c145",
   "metadata": {},
   "outputs": [],
   "source": []
  },
  {
   "cell_type": "code",
   "execution_count": 3,
   "id": "1b6aa8dd",
   "metadata": {},
   "outputs": [],
   "source": [
    "def solution(s):\n",
    "    answer = 0\n",
    "    s = s.split()\n",
    "    page_save = [0]*100001    \n",
    "    page = [0]*100\n",
    "    point = -1\n",
    "    for i in range(len(s)):\n",
    "        if s[i] == 'B':\n",
    "            if page_save[point-1] != 0 and (point-1) >= 0:\n",
    "                page_save[point+1] = page_save[point-1]\n",
    "                point += 1\n",
    "                page[page_save[point]] += 1                \n",
    "        elif s[i] == 'F':\n",
    "            if page_save[point+1] != 0 and (point+1) <= len(s):\n",
    "                page_save[point+1] = page_save[point-1]\n",
    "                point += 1\n",
    "                page[page_save[point]] += 1\n",
    "        else:\n",
    "            point += 1\n",
    "            page_save[point] = int(s[i])\n",
    "            page[page_save[point]] += 1\n",
    "\n",
    "    answer = max(page)\n",
    "    return answer"
   ]
  },
  {
   "cell_type": "code",
   "execution_count": null,
   "id": "d89d947c",
   "metadata": {},
   "outputs": [],
   "source": []
  },
  {
   "cell_type": "code",
   "execution_count": 2,
   "id": "2a92a3a0",
   "metadata": {},
   "outputs": [],
   "source": [
    "def solution(people, tshirts):\n",
    "    answer = 0\n",
    "    tshirts.sort()\n",
    "    for i in people:\n",
    "        for j in tshirts:\n",
    "            if i <= j:\n",
    "                answer += 1\n",
    "                tshirts.remove(j)\n",
    "                break\n",
    "    return answer"
   ]
  }
 ],
 "metadata": {
  "kernelspec": {
   "display_name": "Python 3.8.13",
   "language": "python",
   "name": "python3"
  },
  "language_info": {
   "codemirror_mode": {
    "name": "ipython",
    "version": 3
   },
   "file_extension": ".py",
   "mimetype": "text/x-python",
   "name": "python",
   "nbconvert_exporter": "python",
   "pygments_lexer": "ipython3",
   "version": "3.8.13"
  },
  "vscode": {
   "interpreter": {
    "hash": "f1bc8e131a8961338071b32906c6ca471a9a7afbc2f7dc6722a73b8dea7d4105"
   }
  }
 },
 "nbformat": 4,
 "nbformat_minor": 5
}
